{
 "cells": [
  {
   "cell_type": "markdown",
   "metadata": {},
   "source": [
    "<img src=\"https://bit.ly/2VnXWr2\" width=\"100\" align=\"left\"/>"
   ]
  },
  {
   "cell_type": "raw",
   "metadata": {},
   "source": [
    "# Robin Hood\n",
    "Robin Hood has entered a competition to win the archery contest in Sherwood. With his bow and arrows, he needs to shoot on a target and try to hit as close as possible to the center.\n",
    "\n",
    "![](images/arrows.jpg)\n",
    "\n",
    "## Context\n",
    "In this challenge, the landing position of arrows shot by archers in the competition will be represented using 2-dimensional coordinates. \n",
    "\n",
    "In the 2-dimensional space, a point can be defined by a pair of values that correspond to the horizontal coordinate (x) and the vertical coordinate (y). For example, in our case, an arrow that hits the center of the archery target will land in position (0, 0) on the coordinate axes. \n",
    "\n",
    "The space can be divided into 4 zones (quadrants): Q1, Q2, Q3, Q4. If a point is in Q1, both its x coordinate and y coordinate are positive. Any point with a null x or y coordinate is considered to not belong to any quadrant. \n",
    "\n",
    "If you want to know more about the cartesian coordinate system, you can check this [link](https://en.wikipedia.org/wiki/Cartesian_coordinate_system). \n",
    "\n",
    "## Tools\n",
    "You don't necessarily need to use all the tools. Maybe you opt to use some of them or completely different ones, they are given to help you shape the exercise. Programming exercises can be solved in many different ways.\n",
    "* Data structures: **lists, sets, tuples**\n",
    "* Conditional statements: **if-elif-else**\n",
    "* Loop: **while/for**\n",
    "* Minimum (optional sorting)\n",
    "\n",
    "## Tasks\n",
    "Robin Hood has hit the following points:"
   ]
  },
  {
   "cell_type": "code",
   "execution_count": 33,
   "metadata": {},
   "outputs": [],
   "source": [
    "points = [(4, 5), (-0, 2), (4, 7), (1, -3), (3, -2), (4, 5), (3, 2), (5, 7), (-5, 7), (2, 2), (-4, 5), (0, -2),\n",
    "          (-4, 7), (-1, 3), (-3, 2), (-4, -5), (-3, 2), (5, 7), (5, 7), (2, 2), (9, 9), (-8, -9)]"
   ]
  },
  {
   "cell_type": "markdown",
   "metadata": {},
   "source": [
    "#### 1. Robin Hood is famous for hitting an arrow with another arrow. Find the coordinates of the points where an arrow hits another arrow."
   ]
  },
  {
   "cell_type": "code",
   "execution_count": 34,
   "metadata": {},
   "outputs": [
    {
     "name": "stdout",
     "output_type": "stream",
     "text": [
      "[(-8, -9), (-5, 7), (-4, -5), (-4, 5), (-4, 7), (-3, 2), (-3, 2), (-1, 3), (0, -2), (0, 2), (1, -3), (2, 2), (2, 2), (3, -2), (3, 2), (4, 5), (4, 5), (4, 7), (5, 7), (5, 7), (5, 7), (9, 9)]\n",
      "22\n",
      "[(-8, -9), (-5, 7), (-4, -5), (-4, 5), (-4, 7), (-3, 2), (-1, 3), (0, -2), (0, 2), (1, -3), (2, 2), (3, -2), (3, 2), (4, 5), (4, 7), (5, 7), (9, 9)]\n",
      "17\n",
      "1\n",
      "1\n",
      "1\n",
      "1\n",
      "1\n",
      "2\n",
      "1\n",
      "1\n",
      "1\n",
      "1\n",
      "2\n",
      "1\n",
      "1\n",
      "2\n",
      "1\n",
      "3\n",
      "1\n",
      "[(-3, 2), (2, 2), (4, 5), (5, 7)]\n"
     ]
    }
   ],
   "source": [
    "points.sort()\n",
    "print(points)\n",
    "print(len(points))\n",
    " \n",
    "new_list = sorted(set(points))\n",
    "dup_list =[]\n",
    "print(new_list)\n",
    "print(len(new_list))\n",
    " \n",
    "for i in range(len(new_list)):\n",
    "    print(points.count(new_list[i]))\n",
    "    if (points.count(new_list[i]) > 1 ):\n",
    "            dup_list.append(new_list[i])\n",
    "        \n",
    "print(dup_list) "
   ]
  },
  {
   "cell_type": "markdown",
   "metadata": {},
   "source": [
    "#### 2. Calculate how many arrows have fallen in each quadrant. \n",
    "**Note**: the arrows that fall in the axis (x=0 or y=0) don't belong to any quadrant."
   ]
  },
  {
   "cell_type": "code",
   "execution_count": 35,
   "metadata": {},
   "outputs": [
    {
     "name": "stdout",
     "output_type": "stream",
     "text": [
      "(-8, -9) hits Q3\n",
      "(-5, 7) hits Q2\n",
      "(-4, -5) hits Q3\n",
      "(-4, 5) hits Q2\n",
      "(-4, 7) hits Q2\n",
      "(-3, 2) hits Q2\n",
      "(-3, 2) hits Q2\n",
      "(-1, 3) hits Q2\n",
      "(0, -2) hits none\n",
      "(0, 2) hits none\n",
      "(1, -3) hits Q4\n",
      "(2, 2) hits Q1\n",
      "(2, 2) hits Q1\n",
      "(3, -2) hits Q4\n",
      "(3, 2) hits Q1\n",
      "(4, 5) hits Q1\n",
      "(4, 5) hits Q1\n",
      "(4, 7) hits Q1\n",
      "(5, 7) hits Q1\n",
      "(5, 7) hits Q1\n",
      "(5, 7) hits Q1\n",
      "(9, 9) hits Q1\n",
      "Q1= 10\n",
      "Q2= 6\n",
      "Q3= 2\n",
      "Q4= 2\n"
     ]
    }
   ],
   "source": [
    "Q1 = 0\n",
    "Q2 = 0\n",
    "Q3 = 0\n",
    "Q4 = 0\n",
    "\n",
    "for x in points:\n",
    "    if x[0] == 0 or x[1] == 0:\n",
    "        hit = \"none\"\n",
    "    elif x[0] > 0 and x[1] > 0:\n",
    "        Q1 += 1\n",
    "        hit = \"Q1\"\n",
    "    elif x[0] < 0 and x[1] > 0:\n",
    "        Q2 += 1\n",
    "        hit = \"Q2\"\n",
    "    elif x[0] < 0 and x[1] < 0:\n",
    "        Q3 += 1\n",
    "        hit = \"Q3\"\n",
    "    else:\n",
    "        Q4 += 1\n",
    "        hit = \"Q4\"\n",
    "    print(x,\"hits\",hit)\n",
    "print(\"Q1=\",Q1)\n",
    "print(\"Q2=\",Q2)\n",
    "print(\"Q3=\",Q3)\n",
    "print(\"Q4=\",Q4)"
   ]
  },
  {
   "cell_type": "markdown",
   "metadata": {},
   "source": [
    "#### 3. Find the point closest to the center. Calculate its distance to the center. \n",
    "Take into account that there might be more than one point at the minimum distance to the center.\n",
    "\n",
    "**Hint**: Use the Euclidean distance. You can find more information about it [here](https://en.wikipedia.org/wiki/Euclidean_distance).  \n",
    "**Hint**: Defining a function that calculates the distance to the center can help."
   ]
  },
  {
   "cell_type": "code",
   "execution_count": 36,
   "metadata": {},
   "outputs": [
    {
     "name": "stdout",
     "output_type": "stream",
     "text": [
      "[12.041594578792296, 8.602325267042627, 6.4031242374328485, 6.4031242374328485, 8.06225774829855, 3.605551275463989, 3.605551275463989, 3.1622776601683795, 2.0, 2.0, 3.1622776601683795, 2.8284271247461903, 2.8284271247461903, 3.605551275463989, 3.605551275463989, 6.4031242374328485, 6.4031242374328485, 8.06225774829855, 8.602325267042627, 8.602325267042627, 8.602325267042627, 12.727922061357855]\n",
      "(0, -2) has distance 2.0\n",
      "(0, 2) has distance 2.0\n",
      "(2, 2) has distance 2.8284271247461903\n",
      "(2, 2) has distance 2.8284271247461903\n",
      "(-1, 3) has distance 3.1622776601683795\n",
      "(1, -3) has distance 3.1622776601683795\n",
      "(-3, 2) has distance 3.605551275463989\n",
      "(-3, 2) has distance 3.605551275463989\n",
      "(3, -2) has distance 3.605551275463989\n",
      "(3, 2) has distance 3.605551275463989\n",
      "(-4, -5) has distance 6.4031242374328485\n",
      "(-4, 5) has distance 6.4031242374328485\n",
      "(4, 5) has distance 6.4031242374328485\n",
      "(4, 5) has distance 6.4031242374328485\n",
      "(-4, 7) has distance 8.06225774829855\n",
      "(4, 7) has distance 8.06225774829855\n",
      "(-5, 7) has distance 8.602325267042627\n",
      "(5, 7) has distance 8.602325267042627\n",
      "(5, 7) has distance 8.602325267042627\n",
      "(5, 7) has distance 8.602325267042627\n",
      "(-8, -9) has distance 12.041594578792296\n",
      "(9, 9) has distance 12.727922061357855\n"
     ]
    }
   ],
   "source": [
    "distance = [(x[0]**2+x[1]**2)**0.5 for x in points]\n",
    "print(distance)\n",
    "el_list = points\n",
    "for x in range(len(points)):\n",
    "    distance = [(x[0]**2+x[1]**2)**0.5 for x in points]\n",
    "    print(el_list[distance.index(min(distance))],\"has distance\",min(distance))\n",
    "    del el_list[distance.index(min(distance))]"
   ]
  },
  {
   "cell_type": "markdown",
   "metadata": {},
   "source": [
    "#### 4. If the archery target has a radius of 9, calculate the number of arrows that won't hit the target. \n",
    "**Hint**: Use the function created in step 3. "
   ]
  },
  {
   "cell_type": "code",
   "execution_count": 46,
   "metadata": {},
   "outputs": [
    {
     "name": "stdout",
     "output_type": "stream",
     "text": [
      "[(4, 5), (0, 2), (4, 7), (1, -3), (3, -2), (4, 5), (3, 2), (5, 7), (-5, 7), (2, 2), (-4, 5), (0, -2), (-4, 7), (-1, 3), (-3, 2), (-4, -5), (-3, 2), (5, 7), (5, 7), (2, 2), (9, 9), (-8, -9)]\n",
      "[6.4031242374328485, 2.0, 8.06225774829855, 3.1622776601683795, 3.605551275463989, 6.4031242374328485, 3.605551275463989, 8.602325267042627, 8.602325267042627, 2.8284271247461903, 6.4031242374328485, 2.0, 8.06225774829855, 3.1622776601683795, 3.605551275463989, 6.4031242374328485, 3.605551275463989, 8.602325267042627, 8.602325267042627, 2.8284271247461903, 12.727922061357855, 12.041594578792296]\n",
      "Numbers missing 2\n",
      "Total 22\n",
      "Numbers hit 20\n"
     ]
    }
   ],
   "source": [
    "points = [(4, 5), (-0, 2), (4, 7), (1, -3), (3, -2), (4, 5), (3, 2), (5, 7), (-5, 7), (2, 2), (-4, 5), (0, -2),\n",
    "          (-4, 7), (-1, 3), (-3, 2), (-4, -5), (-3, 2), (5, 7), (5, 7), (2, 2), (9, 9), (-8, -9)]\n",
    "print(points)\n",
    "distance = [(x[0]**2+x[1]**2)**0.5 for x in points]\n",
    "print(distance)\n",
    "\n",
    "count = sum(map(lambda x : x >= 9, distance))\n",
    "print('Numbers missing', count)\n",
    "print(\"Total\",len(points))\n",
    "print(\"Numbers hit\", len(points)-count)"
   ]
  },
  {
   "cell_type": "code",
   "execution_count": null,
   "metadata": {},
   "outputs": [],
   "source": []
  }
 ],
 "metadata": {
  "kernelspec": {
   "display_name": "Python 3",
   "language": "python",
   "name": "python3"
  },
  "language_info": {
   "codemirror_mode": {
    "name": "ipython",
    "version": 3
   },
   "file_extension": ".py",
   "mimetype": "text/x-python",
   "name": "python",
   "nbconvert_exporter": "python",
   "pygments_lexer": "ipython3",
   "version": "3.7.5"
  }
 },
 "nbformat": 4,
 "nbformat_minor": 2
}
